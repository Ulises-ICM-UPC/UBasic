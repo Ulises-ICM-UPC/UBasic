{
 "cells": [
  {
   "cell_type": "markdown",
   "metadata": {},
   "source": [
    "# UBasic\n",
    "\n",
    "`UBasic` is an open source software written in Python for manual image calibration.\n",
    "\n",
    "### Description\n",
    "The program is aimed to obtain the image calibration from a set of Ground Control Points (GCP) and, optionally, the Horizon Points (HP). The result of the process is the intrinsic and extrinsic parameters for each individual image. In addition, planviews can be generated for each image. A code to verify the quality of the GCPs used in the manual calibration of the images is also provided. The development of this software is suitable for images from any source, in particular from Argus-type video monitoring stations or drones. Details about the algorithm and methodology are described in\n",
    "> *Simarro, G.; Calvete, D.; Souto, P.; Guillen, J. Camera Calibration for Coastal Monitoring Using\n",
    "Available Snapshot Images. Remote Sens. 2020, 12, 1840; https://doi.org/doi:10.3390/rs12111840*\n",
    "\n",
    "`UBasic` provides the following tools:\n",
    "\n",
    "1. [Image calibration](#image-calibration)\n",
    "2. [Planview generation](#planviews)\n",
    "3. [Check GCP for basis calibration](#gcp-check)\n",
    "\n",
    "### Requirements and project structure\n",
    "To run the software it is necessary to have Python (3.8) and install the following dependencies:\n",
    "- cv2 (4.2.0)\n",
    "- numpy (1.19.5)\n",
    "- scipy (1.6.0)\n",
    "\n",
    "In parenthesis we indicate the version with which the software has been tested. It is possible that it works with older versions. \n",
    "\n",
    "The structure of the project is the following:\n",
    "* `example.py`\n",
    "* `example_notebook.py`\n",
    "* **`ubasic`**\n",
    "  * `ubasic.py`\n",
    "  * `ulises_ubasic.py`\n",
    "* **`example`**\n",
    "  * **`basis`**\n",
    "    * `basisImage01.png`\n",
    "    * `basisImage01cal.txt`\n",
    "    * `basisImage01cdg.txt`\n",
    "    * `basisImage01cdh.txt`\n",
    "    * `basisImage01par.txt`\n",
    "    * . . .\n",
    "  * **`basis_check`**\n",
    "    * `basisImage01.png`\n",
    "    * `basisImage01cdg.txt`\n",
    "    * . . .\n",
    "  * **`planviews`**\n",
    "    * `crxyz_planview.txt`\n",
    "    * `xy_planview.txt`\n",
    "    * `basisImage01plw.png`\n",
    "    * . . .\n",
    "  * **`TMP`**\n",
    "    * `basisImage01cal_check.png`\n",
    "    * `basisImage01_checkplw.png`\n",
    "    * `basisImage01plw_check.png`\n",
    "    * . . .\n",
    "\n",
    "The local modules of `UBasic` are located in the **`ubasic`** folder.\n",
    "\n",
    "To run the demo in the folder **`example`** with the basis of images in **`basis`** using a Jupyter Notebook we provide the file `example_notebook.ipynb`. For experienced users, the `example.py` file can be run in a terminal. `UBasic` handles `PNG` (recommended) and `JPEG` image formats.\n",
    "\n",
    "## Image calibration\n",
    "To manually calibrate the images placed in the folder **`basis`**,  it is necessary that each image `<basisImage>.png` is supplied with a file containing the Ground Control Points (GCP) and, optionally, a file with the Horizon Points (HP). The structure of each of these files is the following:\n",
    "* `<basisImage>cdg.txt`: For each GCP one line with  (minimum 6)\n",
    ">`pixel-column`, `pixel-row`, `x-coordinate`, `y-coordinate`, `z-coordinate`\n",
    "* `<basisImage>cdh.txt`: For each HP one line with (minimum 3)\n",
    ">`pixel-column`, `pixel-row`\n",
    "\n",
    "Quantities must be separated by at least one blank space between them and the last record should not be continued with a newline (return).\n",
    "\n",
    "To generate `<basisImage>cdg.txt` and `<basisImage>cdh.txt` files the [UClick](https://github.com/Ulises-ICM-UPC/UClick) software is available.\n",
    "\n",
    "### Run basis calibration\n",
    "Import modules:"
   ]
  },
  {
   "cell_type": "code",
   "execution_count": null,
   "metadata": {},
   "outputs": [],
   "source": [
    "import sys\n",
    "import os\n",
    "sys.path.insert(0, 'ubasic')\n",
    "import ubasic as ubasic"
   ]
  },
  {
   "cell_type": "markdown",
   "metadata": {},
   "source": [
    "Set the main path and the path where the basis is located:"
   ]
  },
  {
   "cell_type": "code",
   "execution_count": null,
   "metadata": {},
   "outputs": [],
   "source": [
    "pathFolderMain = 'example'\n",
    "pathFolderBasis = os.path.join(pathFolderMain, 'basis')"
   ]
  },
  {
   "cell_type": "markdown",
   "metadata": {},
   "source": [
    "Set the value of maximum error allowed for the basis calibration:\n",
    "\n",
    "|  | Parameter | Suggested value | Units |\n",
    "|:--|:--:|:--:|:--:|\n",
    "| Critical reprojection pixel error | `eCritical` | _5._ | _pixel_ |\n"
   ]
  },
  {
   "cell_type": "code",
   "execution_count": null,
   "metadata": {},
   "outputs": [],
   "source": [
    "eCritical = 5."
   ]
  },
  {
   "cell_type": "markdown",
   "metadata": {},
   "source": [
    "Select an intrinsic camera calibration model.\n",
    "\n",
    "| Camara model | `parabolic` | `quartic`| `full` |\n",
    "|:--|:--:|:--:|:--:|\n",
    "| Lens radial distortion | parabolic | parabolic + quartic | parabolic + quartic |\n",
    "| Lens tangential distortion | no | no | yes |\n",
    "| Square pixels | yes | yes | no |\n",
    "| Decentering | no | no | yes |\n",
    "\n",
    "The `parabolic` model is recommended by default, unless the images are highly distorted."
   ]
  },
  {
   "cell_type": "code",
   "execution_count": null,
   "metadata": {},
   "outputs": [],
   "source": [
    "calibrationModel = 'parabolic'"
   ]
  },
  {
   "cell_type": "markdown",
   "metadata": {},
   "source": [
    "To facilitate the verification that the GCPs have been correctly selected in each image of the basis, images showing the GCPs and HPs (black), the reprojection of GCPs (yellow) and the horizon line (yellow) on the images can be generated. Set parameter `verbosePlot = True`, and to `False` otherwise. Images (`<basisImage>cal_check.png`) will be placed on a **`TMP`** folder."
   ]
  },
  {
   "cell_type": "code",
   "execution_count": null,
   "metadata": {},
   "outputs": [],
   "source": [
    "verbosePlot = True"
   ]
  },
  {
   "cell_type": "markdown",
   "metadata": {},
   "source": [
    "Run the calibration algorithm for each image of the basis:"
   ]
  },
  {
   "cell_type": "code",
   "execution_count": null,
   "metadata": {},
   "outputs": [],
   "source": [
    "ubasic.CalibrationOfBasisImages(pathFolderBasis, eCritical, calibrationModel, verbosePlot)"
   ]
  },
  {
   "cell_type": "markdown",
   "metadata": {},
   "source": [
    "In case that the reprojection error of a GCP is higher than the error `eCritical` for a certain image `<basisImage>`, a message will appear suggesting to re-run the calibration of the basis or to modify the values or to delete points in the file `<basisImage>cdg.txt`. If the calibration error of an image exceeds the error `eCritical` the calibration is given as _failed_. Consider re-run the calibration of the basis or verify the GPCs and HPs.\n",
    "\n",
    "As a result of the calibration, the calibration file `<basisImage>cal.txt` is generated in the **`basis`** directory for each of the images. This file contains the following parameters:\n",
    "\n",
    "| Magnitudes | Variables | Units |\n",
    "|:--|:--:|:--:|\n",
    "| Camera position coordinates | `xc`, `yc`, `zc` | _m_ |\n",
    "| Camera orientation angles | `ph`, `sg`, `ta` | _rad_ |\n",
    "| Lens radial distortion (parabolic, quartic) | `k1a`, `k2a` | _-_ |\n",
    "| Lens tangential distortion (parabolic, quartic) | `p1a`, `p2a` | _-_ |\n",
    "| Pixel size | `sc`, `sr` | _-_ |\n",
    "| Decentering | `oc`, `or` | _pixel_ |\n",
    "| Image size | `nc`, `nr` | _pixel_ |\n",
    "| Calibration error | `errorT`| _pixel_ |\n",
    "\n",
    "In case an image is to be calibrated by forcing values for certain of the parameters listed above, a `<basisImage>par.txt` in the **`basis`** folder must be provided with the specific parameter values. The structure of this file is the following:\n",
    "* `<basisImage>par.txt`: For each forced calibration parameter one line with \n",
    "> `value`, _`parameter_name`_\n",
    "\n",
    "## Planviews\n",
    "\n",
    "Once the frames have been calibrated, planviews can be generated. The region of the planview is the one delimited by the minimum area rectangle containing the points of the plane specified in the file `xy_planview.txt` in the folder **`planviews`**. The planview image will be oriented so that the nearest corner to the point of the first of the file  `xy_planview.txt` will be placed in the upper left corner of the image. The structure of this file is the following:\n",
    "* `xy_planview.txt`: For each points one line with \n",
    "> `x-coordinate`, `y-coordinate`\n",
    "\n",
    "A minimum number of three not aligned points is required. These points are to be given in the same coordinate system as the GCPs.\n",
    "\n",
    "Set the folder path where the file `xy_planview.txt` is located and the value of `z0`."
   ]
  },
  {
   "cell_type": "code",
   "execution_count": null,
   "metadata": {},
   "outputs": [],
   "source": [
    "pathFolderPlanviews = os.path.join(pathFolderMain, 'planviews')\n",
    "z0 = 3.2"
   ]
  },
  {
   "cell_type": "markdown",
   "metadata": {},
   "source": [
    "The resolution of the planviews is fixed by the pixels-per-meter established in the parameter `ppm`. To help verifying that the points for setting the planview are correctly placed, it is possible to show such points on the frames and on the planviews. Set the parameter `verbosePlot = True`, and to `False` otherwise. The images (`<basisImage>_checkplw.png` and `<basisImage>plw_check.png`) will be placed in a TMP folder."
   ]
  },
  {
   "cell_type": "code",
   "execution_count": null,
   "metadata": {},
   "outputs": [],
   "source": [
    "ppm = 1.0\n",
    "verbosePlot = True"
   ]
  },
  {
   "cell_type": "markdown",
   "metadata": {},
   "source": [
    "Run the algorithm to generate the planviews:"
   ]
  },
  {
   "cell_type": "code",
   "execution_count": null,
   "metadata": {},
   "outputs": [],
   "source": [
    "ubasic.PlanviewsFromImages(pathFolderBasis, pathFolderPlanviews, z0, ppm, verbosePlot)"
   ]
  },
  {
   "cell_type": "markdown",
   "metadata": {},
   "source": [
    "As a result, for each of the calibrated images `<basisImage>.png` in folder **`basis`**, a planview `<basisImage>plw.png` will be placed in the folder **`planviews`**. Note that objects outside the plane at height `z0` will show apparent displacements due to real camera movement. In the same folder, the file `crxyz_planview.txt` will be located, containing the coordinates of the corner of the planviews images:\n",
    "* `crxyz_planview.txt`: For each corner one line with \n",
    ">`pixel-column`, `pixel-row`, `x-coordinate`, `y-coordinate`, `z-coordinate`\n",
    "\n",
    "## GCP check\n",
    "\n",
    "To verify the quality of the GCPs used in the manual calibration of the basis images, a RANSAC (RANdom SAmple Consensus) is performed. Points of the files `<basisImage>cdg.txt` located at the **`basis_check`** folder will be tested. The calibration of the points (minimum 6) is done assuming a _parabolic_ camera model and requires the maximum reprojection pixel error `eCritical` for the GCPs. Set the folder and run the RANSAC algorithm:"
   ]
  },
  {
   "cell_type": "code",
   "execution_count": null,
   "metadata": {},
   "outputs": [],
   "source": [
    "pathFolderBasisCheck = os.path.join(pathFolderMain, 'basis_check')\n",
    "ubasic.CheckGCPs(pathFolderBasisCheck, eCritical)"
   ]
  },
  {
   "cell_type": "markdown",
   "metadata": {},
   "source": [
    "For each file `<basisImage>cdg.txt`, the GCPs that should be revised or excluded will be reported.\n",
    "\n",
    "## Contact us\n",
    "\n",
    "Are you experiencing problems? Do you want to give us a comment? Do you need to get in touch with us? Please contact us!\n",
    "\n",
    "To do so, we ask you to use the [Issues section](https://github.com/Ulises-ICM-UPC/UBasic/issues) instead of emailing us.\n",
    "\n",
    "## Contributions\n",
    "\n",
    "Contributions to this project are welcome. To do a clean pull request, please follow these [guidelines](https://github.com/MarcDiethelm/contributing/blob/master/README.md).\n",
    "\n",
    "## License\n",
    "\n",
    "UCalib is released under a [AGPL-3.0 license](https://github.com/Ulises-ICM-UPC/UBasic/blob/master/LICENSE). If you use UCalib in an academic work, please cite:\n",
    "\n",
    "    @Article{rs12111840,\n",
    "      AUTHOR = {Simarro, Gonzalo and Calvete, Daniel and Souto, Paola and Guillén, Jorge},\n",
    "      TITLE = {Camera Calibration for Coastal Monitoring Using Available Snapshot Images},\n",
    "      JOURNAL = {Remote Sensing},\n",
    "      VOLUME = {12},\n",
    "      YEAR = {2020},\n",
    "      NUMBER = {11},\n",
    "      ARTICLE-NUMBER = {1840},\n",
    "      URL = {https://www.mdpi.com/2072-4292/12/11/1840},\n",
    "      ISSN = {2072-4292},\n",
    "      DOI = {10.3390/rs12111840}\n",
    "      }\n",
    "\n",
    "    @Online{ulisesbasic, \n",
    "      author = {Simarro, Gonzalo and Calvete, Daniel},\n",
    "      title = {UBasic},\n",
    "      year = 2022,\n",
    "      url = {https://github.com/Ulises-ICM-UPC/UBasic}\n",
    "      }"
   ]
  }
 ],
 "metadata": {
  "kernelspec": {
   "display_name": "Python 3",
   "language": "python",
   "name": "python3"
  },
  "language_info": {
   "codemirror_mode": {
    "name": "ipython",
    "version": 3
   },
   "file_extension": ".py",
   "mimetype": "text/x-python",
   "name": "python",
   "nbconvert_exporter": "python",
   "pygments_lexer": "ipython3",
   "version": "3.9.2"
  }
 },
 "nbformat": 4,
 "nbformat_minor": 2
}
